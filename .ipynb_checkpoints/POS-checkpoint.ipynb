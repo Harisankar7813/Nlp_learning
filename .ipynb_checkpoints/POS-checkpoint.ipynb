{
 "cells": [
  {
   "cell_type": "code",
   "execution_count": 3,
   "id": "c5d21e78-da4d-4592-822f-6cd4f8ffdfbc",
   "metadata": {},
   "outputs": [],
   "source": [
    "import nltk\n",
    "import spacy"
   ]
  },
  {
   "cell_type": "code",
   "execution_count": 14,
   "id": "a4435277-e820-4cb6-9280-41212fa714af",
   "metadata": {},
   "outputs": [
    {
     "name": "stdout",
     "output_type": "stream",
     "text": [
      "Eran | PROPN | proper noun | 15794550382381185553 | noun, proper singular\n",
      "flow | NOUN | noun | 15308085513773655218 | noun, singular or mass\n",
      "to | ADP | adposition | 1292078113972184607 | conjunction, subordinating or preposition\n",
      "mars | NOUN | noun | 783433942507015291 | noun, plural\n",
      "yesterday | NOUN | noun | 15308085513773655218 | noun, singular or mass\n",
      ". | PUNCT | punctuation | 12646065887601541794 | punctuation mark, sentence closer\n",
      "He | PRON | pronoun | 13656873538139661788 | pronoun, personal\n",
      "carried | VERB | verb | 17109001835818727656 | verb, past tense\n",
      "  | SPACE | space | 6893682062797376370 | whitespace\n",
      "biriyani | PROPN | proper noun | 15794550382381185553 | noun, proper singular\n",
      "masala | NOUN | noun | 15308085513773655218 | noun, singular or mass\n",
      "with | ADP | adposition | 1292078113972184607 | conjunction, subordinating or preposition\n",
      "him | PRON | pronoun | 13656873538139661788 | pronoun, personal\n",
      "! | PUNCT | punctuation | 12646065887601541794 | punctuation mark, sentence closer\n"
     ]
    }
   ],
   "source": [
    "nlp = spacy.load(\"en_core_web_sm\")\n",
    "doc = nlp(\"Eran flow to mars yesterday. He carried  biriyani masala with him!\")\n",
    "for word in doc:\n",
    "    print(word,\"|\",word.pos_,\"|\",spacy.explain(word.pos_),\"|\",word.tag,\"|\",spacy.explain(word.tag_))"
   ]
  },
  {
   "cell_type": "code",
   "execution_count": 15,
   "id": "c882fe8c-26e6-4f4e-a72c-ed655d2329d3",
   "metadata": {},
   "outputs": [],
   "source": [
    "doc = nlp(\"Eran flow to mars yesterday. He carried  biriyani masala with him!\")\n",
    "filtered_token = []\n",
    "for word in doc:\n",
    "    if word.pos_ not in [\"SPACE\",\"X\",\"PUNCT\"]:\n",
    "        filtered_token.append(word)"
   ]
  },
  {
   "cell_type": "code",
   "execution_count": 13,
   "id": "15d9197f-379e-405c-b915-3850625dfbfe",
   "metadata": {},
   "outputs": [
    {
     "data": {
      "text/plain": [
       "[Eran, flow, to, mars, yesterday, He, carried, biriyani, masala, with, him]"
      ]
     },
     "execution_count": 13,
     "metadata": {},
     "output_type": "execute_result"
    }
   ],
   "source": [
    "filtered_token[:20]"
   ]
  },
  {
   "cell_type": "code",
   "execution_count": 17,
   "id": "3b6b7585-0783-48d5-bf16-48314896c43d",
   "metadata": {},
   "outputs": [
    {
     "data": {
      "text/plain": [
       "{96: 2, 92: 4, 85: 2, 97: 2, 95: 2, 100: 1, 103: 1}"
      ]
     },
     "execution_count": 17,
     "metadata": {},
     "output_type": "execute_result"
    }
   ],
   "source": [
    "count=doc.count_by(spacy.attrs.POS)\n",
    "count"
   ]
  },
  {
   "cell_type": "code",
   "execution_count": 19,
   "id": "e9b8d1d6-6feb-4974-a56a-98a43eeeec2d",
   "metadata": {},
   "outputs": [
    {
     "data": {
      "text/plain": [
       "'NOUN'"
      ]
     },
     "execution_count": 19,
     "metadata": {},
     "output_type": "execute_result"
    }
   ],
   "source": [
    "doc.vocab[92].text"
   ]
  },
  {
   "cell_type": "code",
   "execution_count": 21,
   "id": "e5d9db8a-a6f1-4e18-8ee9-761477fdb0cd",
   "metadata": {},
   "outputs": [
    {
     "name": "stdout",
     "output_type": "stream",
     "text": [
      "PROPN | 2\n",
      "NOUN | 4\n",
      "ADP | 2\n",
      "PUNCT | 2\n",
      "PRON | 2\n",
      "VERB | 1\n",
      "SPACE | 1\n"
     ]
    }
   ],
   "source": [
    "for k,v in count.items():\n",
    "    print(doc.vocab[k].text,\"|\",v)"
   ]
  },
  {
   "cell_type": "code",
   "execution_count": null,
   "id": "8ae5af79-6e6e-4f0d-b1e9-61c435e19269",
   "metadata": {},
   "outputs": [],
   "source": []
  }
 ],
 "metadata": {
  "kernelspec": {
   "display_name": "Python 3 (ipykernel)",
   "language": "python",
   "name": "python3"
  },
  "language_info": {
   "codemirror_mode": {
    "name": "ipython",
    "version": 3
   },
   "file_extension": ".py",
   "mimetype": "text/x-python",
   "name": "python",
   "nbconvert_exporter": "python",
   "pygments_lexer": "ipython3",
   "version": "3.12.7"
  }
 },
 "nbformat": 4,
 "nbformat_minor": 5
}
