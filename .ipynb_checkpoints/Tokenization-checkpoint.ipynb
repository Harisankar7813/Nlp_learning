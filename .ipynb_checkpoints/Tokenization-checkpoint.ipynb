{
 "cells": [
  {
   "cell_type": "code",
   "execution_count": 1,
   "id": "e019d410-a1f3-4eb6-ace4-7fc2f6eced7a",
   "metadata": {},
   "outputs": [],
   "source": [
    "import spacy"
   ]
  },
  {
   "cell_type": "code",
   "execution_count": 3,
   "id": "e8d5d0a4-656e-4669-a952-86b559789e3e",
   "metadata": {},
   "outputs": [
    {
     "name": "stdout",
     "output_type": "stream",
     "text": [
      "Dr.\n",
      "Strange\n",
      "is\n",
      "a\n",
      "good\n",
      "soccer\n",
      ".\n",
      "but\n",
      "he\n",
      "looses\n",
      "everything\n"
     ]
    }
   ],
   "source": [
    "nlp = spacy.blank(\"en\")\n",
    "doc = nlp(\"Dr.Strange is a good soccer. but he looses everything\")\n",
    "for word in doc:\n",
    "    print(word)"
   ]
  },
  {
   "cell_type": "code",
   "execution_count": 5,
   "id": "a02c238c-e1c9-4a25-acfa-2e65d28012eb",
   "metadata": {},
   "outputs": [
    {
     "data": {
      "text/plain": [
       "Tony"
      ]
     },
     "execution_count": 5,
     "metadata": {},
     "output_type": "execute_result"
    }
   ],
   "source": [
    "doc = nlp(\"Tony gave two $ to peter.\")\n",
    "token0 =doc[0]\n",
    "token0"
   ]
  },
  {
   "cell_type": "code",
   "execution_count": 6,
   "id": "231aa62d-227d-478c-bc46-5101b9f13ca2",
   "metadata": {},
   "outputs": [
    {
     "data": {
      "text/plain": [
       "False"
      ]
     },
     "execution_count": 6,
     "metadata": {},
     "output_type": "execute_result"
    }
   ],
   "source": [
    "token0.like_num"
   ]
  },
  {
   "cell_type": "code",
   "execution_count": 7,
   "id": "6173eef1-596c-4050-af2e-1ae987c1a832",
   "metadata": {},
   "outputs": [
    {
     "data": {
      "text/plain": [
       "'two'"
      ]
     },
     "execution_count": 7,
     "metadata": {},
     "output_type": "execute_result"
    }
   ],
   "source": [
    "token2 = doc[2]\n",
    "token2.text"
   ]
  },
  {
   "cell_type": "code",
   "execution_count": 8,
   "id": "37284375-aa1e-4939-a44b-5069b824004c",
   "metadata": {},
   "outputs": [
    {
     "data": {
      "text/plain": [
       "True"
      ]
     },
     "execution_count": 8,
     "metadata": {},
     "output_type": "execute_result"
    }
   ],
   "source": [
    "token2.like_num # it's actually identifies its a number"
   ]
  },
  {
   "cell_type": "code",
   "execution_count": 9,
   "id": "e2bf1078-f7ee-44fc-971e-96e93a03d67b",
   "metadata": {},
   "outputs": [
    {
     "data": {
      "text/plain": [
       "spacy.tokens.token.Token"
      ]
     },
     "execution_count": 9,
     "metadata": {},
     "output_type": "execute_result"
    }
   ],
   "source": [
    "type(token0)"
   ]
  },
  {
   "cell_type": "code",
   "execution_count": 10,
   "id": "e5f7c948-9afc-4c17-ac40-d3f86c10bcee",
   "metadata": {},
   "outputs": [
    {
     "data": {
      "text/plain": [
       "spacy.tokens.doc.Doc"
      ]
     },
     "execution_count": 10,
     "metadata": {},
     "output_type": "execute_result"
    }
   ],
   "source": [
    "type(doc)"
   ]
  },
  {
   "cell_type": "code",
   "execution_count": 12,
   "id": "ef8f80d8-1154-4a52-9dfe-13e0858437a9",
   "metadata": {},
   "outputs": [
    {
     "data": {
      "text/plain": [
       "True"
      ]
     },
     "execution_count": 12,
     "metadata": {},
     "output_type": "execute_result"
    }
   ],
   "source": [
    "token3 = doc[3]\n",
    "token3.text\n",
    "token3.is_currency # $ is a currency"
   ]
  },
  {
   "cell_type": "code",
   "execution_count": 15,
   "id": "a2c7f0a3-b5bc-41a3-bd80-28370f2fefd6",
   "metadata": {},
   "outputs": [
    {
     "name": "stdout",
     "output_type": "stream",
     "text": [
      "Tony ==> index: 0 is_alpha: True is_punct: False like_num: False is_currency: False\n",
      "gave ==> index: 1 is_alpha: True is_punct: False like_num: False is_currency: False\n",
      "two ==> index: 2 is_alpha: True is_punct: False like_num: True is_currency: False\n",
      "$ ==> index: 3 is_alpha: False is_punct: False like_num: False is_currency: True\n",
      "to ==> index: 4 is_alpha: True is_punct: False like_num: False is_currency: False\n",
      "peter ==> index: 5 is_alpha: True is_punct: False like_num: False is_currency: False\n",
      ". ==> index: 6 is_alpha: False is_punct: True like_num: False is_currency: False\n"
     ]
    }
   ],
   "source": [
    "for token in doc:\n",
    "    print(token,\"==>\",\"index:\",token.i,\n",
    "          \"is_alpha:\",token.is_alpha,\n",
    "          \"is_punct:\",token.is_punct,\n",
    "          \"like_num:\",token.like_num,\n",
    "          \"is_currency:\",token.is_currency,)"
   ]
  },
  {
   "cell_type": "code",
   "execution_count": 16,
   "id": "56caa294-ca36-4f08-b211-9eccdf565f27",
   "metadata": {},
   "outputs": [
    {
     "data": {
      "text/plain": [
       "['Name          Date of Birth        email\\n',\n",
       " '----          -------------        -----------------\\n',\n",
       " 'Eran          09.10.2000           eran@gmail.com\\n',\n",
       " 'Mikasa        18.12.1999           mikasa@gmail.com\\n',\n",
       " 'Levi          22.10.1995           levi@gmail.com']"
      ]
     },
     "execution_count": 16,
     "metadata": {},
     "output_type": "execute_result"
    }
   ],
   "source": [
    "with open(\"Student.txt\") as f:\n",
    "    text = f.readlines()\n",
    "text"
   ]
  },
  {
   "cell_type": "code",
   "execution_count": 17,
   "id": "405d9e0b-f587-4ba2-9d30-3d6b7b3ae14f",
   "metadata": {},
   "outputs": [
    {
     "data": {
      "text/plain": [
       "'Name          Date of Birth        email\\n ----          -------------        -----------------\\n Eran          09.10.2000           eran@gmail.com\\n Mikasa        18.12.1999           mikasa@gmail.com\\n Levi          22.10.1995           levi@gmail.com'"
      ]
     },
     "execution_count": 17,
     "metadata": {},
     "output_type": "execute_result"
    }
   ],
   "source": [
    "text=' '.join(text)\n",
    "text"
   ]
  },
  {
   "cell_type": "code",
   "execution_count": 20,
   "id": "a7308493-046d-4576-9f6c-8268ddc53e43",
   "metadata": {},
   "outputs": [
    {
     "data": {
      "text/plain": [
       "[eran@gmail.com, mikasa@gmail.com, levi@gmail.com]"
      ]
     },
     "execution_count": 20,
     "metadata": {},
     "output_type": "execute_result"
    }
   ],
   "source": [
    "doc = nlp(text)\n",
    "emails=[]\n",
    "for word in doc:\n",
    "    if word.like_email:\n",
    "        emails.append(word)\n",
    "emails"
   ]
  },
  {
   "cell_type": "code",
   "execution_count": 23,
   "id": "baea9e37-4c26-474b-b534-b97d9c283c0a",
   "metadata": {},
   "outputs": [
    {
     "name": "stdout",
     "output_type": "stream",
     "text": [
      "லெவி False False\n",
      "ஒரு False True\n",
      "வாரத்திற்கு False False\n",
      "முன்பு False False\n",
      "வாங்கிய False False\n",
      "500 False True\n",
      "$ True False\n",
      "என்னிடம் False False\n",
      "கொடுத்தார் False False\n"
     ]
    }
   ],
   "source": [
    "nlp = spacy.blank('ta')\n",
    "doc = nlp('லெவி ஒரு வாரத்திற்கு முன்பு வாங்கிய 500 $ என்னிடம் கொடுத்தார்')\n",
    "for word in doc:\n",
    "    print(word,word.is_currency,word.like_num)"
   ]
  },
  {
   "cell_type": "code",
   "execution_count": 24,
   "id": "87240a77-8ca7-4a6e-9c87-c0c0bcd8b442",
   "metadata": {},
   "outputs": [
    {
     "data": {
      "text/plain": [
       "['gimme', 'double', 'cheese', 'extra', 'large', 'healthy', 'pizza']"
      ]
     },
     "execution_count": 24,
     "metadata": {},
     "output_type": "execute_result"
    }
   ],
   "source": [
    "doc = nlp(\"gimme double cheese extra large healthy pizza\") #gimme = give me\n",
    "tokens = [token.text for token in doc]\n",
    "tokens"
   ]
  },
  {
   "cell_type": "code",
   "execution_count": 28,
   "id": "08e58df1-ec59-4700-a475-d6268f97f25c",
   "metadata": {},
   "outputs": [
    {
     "data": {
      "text/plain": [
       "['gim', 'me', 'double', 'cheese', 'extra', 'large', 'healthy', 'pizza']"
      ]
     },
     "execution_count": 28,
     "metadata": {},
     "output_type": "execute_result"
    }
   ],
   "source": [
    "from spacy.symbols import ORTH\n",
    "nlp.tokenizer.add_special_case(\"gimme\",[\n",
    "    {ORTH:\"gim\"},\n",
    "     {ORTH: \"me\"}])\n",
    "doc = nlp(\"gimme double cheese extra large healthy pizza\") #gimme = give me\n",
    "tokens = [token.text for token in doc]\n",
    "tokens"
   ]
  },
  {
   "cell_type": "code",
   "execution_count": 34,
   "id": "03f909e7-ba3e-4ebe-87f4-8ce796cf865e",
   "metadata": {},
   "outputs": [
    {
     "name": "stdout",
     "output_type": "stream",
     "text": [
      "Dr.\n",
      "Strange is a good surgerian.\n",
      "Hulk is a bad scientist\n"
     ]
    }
   ],
   "source": [
    "doc = nlp(\"Dr. Strange is a good surgerian.Hulk is a bad scientist\")\n",
    "for sentance in doc.sents:\n",
    "    print(sentance)  # before executing below below statements it will give errors to add pipeline"
   ]
  },
  {
   "cell_type": "code",
   "execution_count": 30,
   "id": "db61b990-4ab3-4854-aa4b-0d40e36a8b69",
   "metadata": {},
   "outputs": [
    {
     "data": {
      "text/plain": [
       "<spacy.pipeline.sentencizer.Sentencizer at 0x1be7cebae10>"
      ]
     },
     "execution_count": 30,
     "metadata": {},
     "output_type": "execute_result"
    }
   ],
   "source": [
    "nlp.add_pipe('sentencizer')"
   ]
  },
  {
   "cell_type": "code",
   "execution_count": 31,
   "id": "cc155caa-72d6-4db7-b745-b3d6d523cb4e",
   "metadata": {},
   "outputs": [
    {
     "data": {
      "text/plain": [
       "['sentencizer']"
      ]
     },
     "execution_count": 31,
     "metadata": {},
     "output_type": "execute_result"
    }
   ],
   "source": [
    "nlp.pipe_names"
   ]
  },
  {
   "cell_type": "code",
   "execution_count": 33,
   "id": "991a6bb5-6760-4677-9162-a7361fc6d08b",
   "metadata": {},
   "outputs": [
    {
     "name": "stdout",
     "output_type": "stream",
     "text": [
      "Dr.\n",
      "Strange is a good surgerian.\n",
      "Hulk is a bad scientist\n"
     ]
    }
   ],
   "source": [
    "doc = nlp(\"Dr. Strange is a good surgerian.Hulk is a bad scientist\")\n",
    "for sentance in doc.sents:\n",
    "    print(sentance)"
   ]
  },
  {
   "cell_type": "code",
   "execution_count": null,
   "id": "a34905c3-8937-48d1-a4b1-80e86c4fc34f",
   "metadata": {},
   "outputs": [],
   "source": []
  }
 ],
 "metadata": {
  "kernelspec": {
   "display_name": "Python 3 (ipykernel)",
   "language": "python",
   "name": "python3"
  },
  "language_info": {
   "codemirror_mode": {
    "name": "ipython",
    "version": 3
   },
   "file_extension": ".py",
   "mimetype": "text/x-python",
   "name": "python",
   "nbconvert_exporter": "python",
   "pygments_lexer": "ipython3",
   "version": "3.12.7"
  }
 },
 "nbformat": 4,
 "nbformat_minor": 5
}
