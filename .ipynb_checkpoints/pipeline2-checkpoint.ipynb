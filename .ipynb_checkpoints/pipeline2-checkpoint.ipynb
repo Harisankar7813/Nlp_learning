{
 "cells": [
  {
   "cell_type": "code",
   "execution_count": 3,
   "id": "fe963be2-f920-4530-a9ee-ebb41e6a8411",
   "metadata": {},
   "outputs": [],
   "source": [
    "import spacy"
   ]
  },
  {
   "cell_type": "code",
   "execution_count": 4,
   "id": "501f4061-6e04-4558-97f5-d458fa4c6915",
   "metadata": {},
   "outputs": [
    {
     "name": "stdout",
     "output_type": "stream",
     "text": [
      "Text\n",
      "present\n",
      "in\n",
      "document\n",
      "to\n",
      "tokenize\n",
      ".\n",
      "And\n",
      "this\n",
      "does\n",
      "n't\n",
      "contain\n",
      "pipeline\n",
      ".\n",
      "They\n",
      "has\n",
      "tokenizer\n",
      "component\n",
      "by\n",
      "default\n"
     ]
    }
   ],
   "source": [
    "nlp = spacy.blank(\"en\")\n",
    "doc = nlp(\"Text present in document to tokenize. And this doesn't contain pipeline. They has tokenizer component by default\")\n",
    "for text in doc:\n",
    "    print (text)"
   ]
  },
  {
   "cell_type": "code",
   "execution_count": 4,
   "id": "4ce379dc-76ac-4a83-80b9-cd43616758f9",
   "metadata": {},
   "outputs": [
    {
     "data": {
      "text/plain": [
       "[]"
      ]
     },
     "execution_count": 4,
     "metadata": {},
     "output_type": "execute_result"
    }
   ],
   "source": [
    "nlp.pipe_names # no pipeline"
   ]
  },
  {
   "cell_type": "code",
   "execution_count": 6,
   "id": "d7380bc3-cc28-4bf9-9a65-9dba9e592cde",
   "metadata": {},
   "outputs": [],
   "source": [
    "nlp = spacy.load(\"en_core_web_sm\")  # gives the pipeline components"
   ]
  },
  {
   "cell_type": "code",
   "execution_count": 8,
   "id": "d2cb8758-1b9a-4ed2-b4d9-370f2df60fb8",
   "metadata": {},
   "outputs": [
    {
     "data": {
      "text/plain": [
       "['tok2vec', 'tagger', 'parser', 'attribute_ruler', 'lemmatizer', 'ner']"
      ]
     },
     "execution_count": 8,
     "metadata": {},
     "output_type": "execute_result"
    }
   ],
   "source": [
    "nlp.pipe_names"
   ]
  },
  {
   "cell_type": "code",
   "execution_count": 9,
   "id": "17c0ad0d-9746-47f5-b21f-e7eb60883669",
   "metadata": {},
   "outputs": [
    {
     "data": {
      "text/plain": [
       "[('tok2vec', <spacy.pipeline.tok2vec.Tok2Vec at 0x1a63e032a50>),\n",
       " ('tagger', <spacy.pipeline.tagger.Tagger at 0x1a63e032690>),\n",
       " ('parser', <spacy.pipeline.dep_parser.DependencyParser at 0x1a63e0626c0>),\n",
       " ('attribute_ruler',\n",
       "  <spacy.pipeline.attributeruler.AttributeRuler at 0x1a63f2686d0>),\n",
       " ('lemmatizer', <spacy.lang.en.lemmatizer.EnglishLemmatizer at 0x1a63ef71210>),\n",
       " ('ner', <spacy.pipeline.ner.EntityRecognizer at 0x1a63e062880>)]"
      ]
     },
     "execution_count": 9,
     "metadata": {},
     "output_type": "execute_result"
    }
   ],
   "source": [
    "nlp.pipeline"
   ]
  },
  {
   "cell_type": "code",
   "execution_count": 11,
   "id": "29e0ad7c-e7d7-4eb1-8400-46728e481f82",
   "metadata": {},
   "outputs": [
    {
     "name": "stdout",
     "output_type": "stream",
     "text": [
      "Text | NOUN | text\n",
      "present | ADJ | present\n",
      "in | ADP | in\n",
      "document | NOUN | document\n",
      "to | PART | to\n",
      "tokenize | VERB | tokenize\n",
      ". | PUNCT | .\n",
      "And | CCONJ | and\n",
      "this | PRON | this\n",
      "does | AUX | do\n",
      "n't | PART | not\n",
      "contain | VERB | contain\n",
      "pipeline | NOUN | pipeline\n",
      ". | PUNCT | .\n",
      "They | PRON | they\n",
      "has | VERB | have\n",
      "tokenizer | NOUN | tokenizer\n",
      "component | NOUN | component\n",
      "by | ADP | by\n",
      "default | NOUN | default\n"
     ]
    }
   ],
   "source": [
    "doc = nlp(\"Text present in document to tokenize. And this doesn't contain pipeline. They has tokenizer component by default\")\n",
    "for text in doc:\n",
    "    print (text ,\"|\",text.pos_,\"|\",text.lemma_)  #pos - Part of speech"
   ]
  },
  {
   "cell_type": "code",
   "execution_count": 12,
   "id": "07cec1ac-5cb1-42fe-bc95-fbb6f89fa63f",
   "metadata": {},
   "outputs": [],
   "source": [
    "doc = nlp(\"Tesla Inc is going to acquire twitter for 45$ billion\")\n",
    "for ent in doc.ents:\n",
    "    print(ent.text, \"|\",ent.label_,\"|\",spacy.explain(ent.label_))"
   ]
  },
  {
   "cell_type": "code",
   "execution_count": 13,
   "id": "fe14e52d-750f-49f5-87e0-3f035692d4fc",
   "metadata": {},
   "outputs": [
    {
     "data": {
      "text/html": [
       "<span class=\"tex2jax_ignore\"><div class=\"entities\" style=\"line-height: 2.5; direction: ltr\">Tesla Inc is going to acquire twitter for 45$ billion</div></span>"
      ],
      "text/plain": [
       "<IPython.core.display.HTML object>"
      ]
     },
     "metadata": {},
     "output_type": "display_data"
    }
   ],
   "source": [
    "from spacy import displacy\n",
    "displacy.render(doc,style=\"ent\")"
   ]
  },
  {
   "cell_type": "code",
   "execution_count": null,
   "id": "d90da812-a759-4e98-a5d1-711b86f43ee6",
   "metadata": {},
   "outputs": [],
   "source": []
  },
  {
   "cell_type": "code",
   "execution_count": null,
   "id": "6fdce5fd-5942-482a-a8fc-1b9361b101c4",
   "metadata": {},
   "outputs": [],
   "source": []
  }
 ],
 "metadata": {
  "kernelspec": {
   "display_name": "Python 3 (ipykernel)",
   "language": "python",
   "name": "python3"
  },
  "language_info": {
   "codemirror_mode": {
    "name": "ipython",
    "version": 3
   },
   "file_extension": ".py",
   "mimetype": "text/x-python",
   "name": "python",
   "nbconvert_exporter": "python",
   "pygments_lexer": "ipython3",
   "version": "3.12.7"
  }
 },
 "nbformat": 4,
 "nbformat_minor": 5
}
