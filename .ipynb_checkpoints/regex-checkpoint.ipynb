{
 "cells": [
  {
   "cell_type": "code",
   "execution_count": 3,
   "id": "3e14275a-3f86-4056-b07b-7c310d5a1d39",
   "metadata": {},
   "outputs": [],
   "source": [
    "import re\n"
   ]
  },
  {
   "cell_type": "code",
   "execution_count": 12,
   "id": "669183a9-3caa-4773-9b9c-f47f9b89afd6",
   "metadata": {},
   "outputs": [],
   "source": [
    "chat1 = 'codebasics: you ask lot of question 0123456789 , abc@xyz.com'\n",
    "chat2 = 'codebasics: here it is: (123)-567-8912,abc@xyz.com'\n",
    "chat3 = 'codebasics: yes, phone:0123456789 email: abc@xyz.com'"
   ]
  },
  {
   "cell_type": "code",
   "execution_count": 25,
   "id": "7737221f-4a53-4450-a0aa-f53401ed0a00",
   "metadata": {},
   "outputs": [
    {
     "data": {
      "text/plain": [
       "['(123)-567-8912']"
      ]
     },
     "execution_count": 25,
     "metadata": {},
     "output_type": "execute_result"
    }
   ],
   "source": [
    "pattern = r'\\d{10}|\\(\\d{3}\\)-\\d{3}-\\d{4}'\n",
    "matches = re.findall(pattern,chat2)\n",
    "matches\n"
   ]
  },
  {
   "cell_type": "code",
   "execution_count": 23,
   "id": "73c5d61f-9036-45d0-8f7a-1189c1c51b41",
   "metadata": {},
   "outputs": [],
   "source": [
    "chat1 = 'codebasics: you ask lot of question 0123456789 , abc@xyz.com'\n",
    "chat2 = 'codebasics: here it is: (123)-567-8912,abc@xyz.com'\n",
    "chat3 = 'codebasics: yes, phone:0123456789 email: abc@xyz.com'"
   ]
  },
  {
   "cell_type": "code",
   "execution_count": 24,
   "id": "cde6cdb3-7028-4e44-88b9-c1bc0e897b30",
   "metadata": {},
   "outputs": [
    {
     "data": {
      "text/plain": [
       "'abc@xyz.com'"
      ]
     },
     "execution_count": 24,
     "metadata": {},
     "output_type": "execute_result"
    }
   ],
   "source": [
    "pattern1 = r'[a-z0-9A-Z_]*@[a-z0-9A-Z]*\\.[a-zA-Z]*'\n",
    "matches = re.findall(pattern1,chat3)\n",
    "email=matches[0]\n",
    "email"
   ]
  },
  {
   "cell_type": "code",
   "execution_count": 27,
   "id": "da017f1e-4c4a-4b7c-b8a2-23d4cb564631",
   "metadata": {},
   "outputs": [],
   "source": [
    "chat1 ='codebasics: Hello, I am having an issue with my order #412889912'\n",
    "chat2 ='codebasics: I have a problem with my order 412889912'\n",
    "chat3 ='codebasics: My order 412889912'"
   ]
  },
  {
   "cell_type": "code",
   "execution_count": 29,
   "id": "78a228cd-3490-4442-aa97-ea5246648993",
   "metadata": {},
   "outputs": [
    {
     "data": {
      "text/plain": [
       "['412889912']"
      ]
     },
     "execution_count": 29,
     "metadata": {},
     "output_type": "execute_result"
    }
   ],
   "source": [
    "pattern2 =r'order[^\\d]*(\\d*)'\n",
    "matches = re.findall(pattern2,chat2)\n",
    "matches"
   ]
  },
  {
   "cell_type": "code",
   "execution_count": 39,
   "id": "a4b42d68-ba5a-4d55-ad89-a73dc238d13d",
   "metadata": {},
   "outputs": [],
   "source": [
    "text = '''Born\tElon Reeve Musk\n",
    "June 28, 1971 (age 53)\n",
    "Pretoria, Transvaal, South Africa\n",
    "Citizenship\t\n",
    "South Africa\n",
    "Canada\n",
    "United States (from 2002)\n",
    "Education\t\n",
    "University of Pennsylvania\n",
    "(BA, BS)\n",
    "Title\t\n",
    "Founder, CEO, and chief engineer of SpaceX\n",
    "CEO and product architect of Tesla, Inc.\n",
    "Owner, CTO and executive chairman of X (formerly Twitter)\n",
    "President of the Musk Foundation\n",
    "Founder of The Boring Company, X Corp., and xAI\n",
    "Co-founder of Neuralink, OpenAI, Zip2, and X.com (part of PayPal)\n",
    "Spouses\t\n",
    "Justine Wilson\n",
    "​\n",
    "​(m. 2000; div. 2008)​\n",
    "Talulah Riley\n",
    "​\n",
    "​(m. 2010; div. 2012)​\n",
    "​\n",
    "​(m. 2013; div. 2016)​\n",
    "Partners\t\n",
    "Grimes (2018–2021)[1]\n",
    "Children\t12[2]\n",
    "Parents\t\n",
    "Errol Musk\n",
    "Maye Musk\n",
    "Relatives\t\n",
    "Kimbal Musk (brother)\n",
    "Tosca Musk (sister)\n",
    "Lyndon Rive (cousin)'''"
   ]
  },
  {
   "cell_type": "code",
   "execution_count": 36,
   "id": "a266e049-28f2-4dec-bb3d-afefe60ff5c3",
   "metadata": {},
   "outputs": [
    {
     "data": {
      "text/plain": [
       "['53']"
      ]
     },
     "execution_count": 36,
     "metadata": {},
     "output_type": "execute_result"
    }
   ],
   "source": [
    "pattern3 = r'age (\\d+)'\n",
    "matches = re.findall(pattern3,text)\n",
    "matches"
   ]
  },
  {
   "cell_type": "code",
   "execution_count": 44,
   "id": "f70fa095-11d2-4027-af51-cd326e51e6db",
   "metadata": {},
   "outputs": [
    {
     "data": {
      "text/plain": [
       "'Elon Reeve Musk'"
      ]
     },
     "execution_count": 44,
     "metadata": {},
     "output_type": "execute_result"
    }
   ],
   "source": [
    "pattern3 = r'Born(.*)'\n",
    "matches = re.findall(pattern3,text)\n",
    "matches[0].strip()"
   ]
  },
  {
   "cell_type": "code",
   "execution_count": 45,
   "id": "2f9ad634-3583-4ee9-9424-9ebda65281cf",
   "metadata": {},
   "outputs": [
    {
     "data": {
      "text/plain": [
       "'June 28, 1971'"
      ]
     },
     "execution_count": 45,
     "metadata": {},
     "output_type": "execute_result"
    }
   ],
   "source": [
    "pattern3 = r'Born.*\\n(.*)\\(age'\n",
    "matches = re.findall(pattern3,text)\n",
    "matches[0].strip()"
   ]
  },
  {
   "cell_type": "code",
   "execution_count": 46,
   "id": "3e8ba3d1-b68c-494b-8a66-f4ebb89eb754",
   "metadata": {},
   "outputs": [],
   "source": [
    "def get_pattern_match(pattern,text):\n",
    "    matches = re.findall(pattern,text)\n",
    "    if matches:\n",
    "        return matches[0]"
   ]
  },
  {
   "cell_type": "code",
   "execution_count": 47,
   "id": "0d701880-7f45-4bcf-9b61-1370bab4f33c",
   "metadata": {},
   "outputs": [
    {
     "data": {
      "text/plain": [
       "'June 28, 1971 '"
      ]
     },
     "execution_count": 47,
     "metadata": {},
     "output_type": "execute_result"
    }
   ],
   "source": [
    "get_pattern_match(r'Born.*\\n(.*)\\(age',text)"
   ]
  },
  {
   "cell_type": "code",
   "execution_count": 48,
   "id": "6b94f308-c0e7-4818-97bc-421d34013ccf",
   "metadata": {},
   "outputs": [],
   "source": [
    "def get_personal_info(text):\n",
    "    age = get_pattern_match(r'age (\\d+)',text)\n",
    "    full_name = get_pattern_match(r'Born(.*)',text)\n",
    "    birth_date = get_pattern_match(r'Born.*\\n(.*)\\(age',text)\n",
    "    birth_place = get_pattern_match(r'\\(age.*\\n(.*)',text)\n",
    "    return{\n",
    "        'age':int(age),\n",
    "        'name':full_name.strip(),\n",
    "        'birth_date':birth_date.strip(),\n",
    "        'birth_place':birth_place.strip()\n",
    "    }"
   ]
  },
  {
   "cell_type": "code",
   "execution_count": 49,
   "id": "7b8e81cb-cfda-47b7-aa50-a867bbed8362",
   "metadata": {},
   "outputs": [
    {
     "data": {
      "text/plain": [
       "{'age': 53,\n",
       " 'name': 'Elon Reeve Musk',\n",
       " 'birth_date': 'June 28, 1971',\n",
       " 'birth_place': 'Pretoria, Transvaal, South Africa'}"
      ]
     },
     "execution_count": 49,
     "metadata": {},
     "output_type": "execute_result"
    }
   ],
   "source": [
    "get_personal_info(text)"
   ]
  },
  {
   "cell_type": "code",
   "execution_count": null,
   "id": "ae5f8c23-0587-4c53-8457-b68cad3fed5e",
   "metadata": {},
   "outputs": [],
   "source": []
  }
 ],
 "metadata": {
  "kernelspec": {
   "display_name": "Python 3 (ipykernel)",
   "language": "python",
   "name": "python3"
  },
  "language_info": {
   "codemirror_mode": {
    "name": "ipython",
    "version": 3
   },
   "file_extension": ".py",
   "mimetype": "text/x-python",
   "name": "python",
   "nbconvert_exporter": "python",
   "pygments_lexer": "ipython3",
   "version": "3.12.7"
  }
 },
 "nbformat": 4,
 "nbformat_minor": 5
}
