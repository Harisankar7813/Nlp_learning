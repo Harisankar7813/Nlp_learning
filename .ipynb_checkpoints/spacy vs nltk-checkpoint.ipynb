{
 "cells": [
  {
   "cell_type": "code",
   "execution_count": 1,
   "id": "5e288317-5bcd-41c3-bceb-0a08e4b2f0a1",
   "metadata": {},
   "outputs": [],
   "source": [
    "import spacy"
   ]
  },
  {
   "cell_type": "code",
   "execution_count": 4,
   "id": "0852867e-223b-4c4a-97fc-826ec24d9838",
   "metadata": {},
   "outputs": [
    {
     "name": "stdout",
     "output_type": "stream",
     "text": [
      "Dr. Strange loves Ana.\n",
      "Hulk loves Cookies etc., and he also smashes all things.\n"
     ]
    }
   ],
   "source": [
    "nlp = spacy.load(\"en_core_web_sm\")\n",
    "doc = nlp(\"Dr. Strange loves Ana. Hulk loves Cookies etc., and he also smashes all things.\")#Spacy is more intelligent than any other it understands word and not stop in dots.eg:etc.,\n",
    "for sentance in doc.sents:\n",
    "    print(sentance) #sentance tokenization"
   ]
  },
  {
   "cell_type": "code",
   "execution_count": 5,
   "id": "e9c61214-933b-4877-a272-067e35128d3f",
   "metadata": {},
   "outputs": [
    {
     "name": "stdout",
     "output_type": "stream",
     "text": [
      "Dr.\n",
      "Strange\n",
      "loves\n",
      "Ana\n",
      ".\n",
      "Hulk\n",
      "loves\n",
      "Cookies\n",
      "etc\n",
      ".\n",
      ",\n",
      "and\n",
      "he\n",
      "also\n",
      "smashes\n",
      "all\n",
      "things\n",
      ".\n"
     ]
    }
   ],
   "source": [
    "for sentance in doc.sents:\n",
    "    for word in sentance:\n",
    "        print(word) # word tokenization"
   ]
  },
  {
   "cell_type": "code",
   "execution_count": null,
   "id": "4f57f5a1-ea50-41e3-b96b-a8e5ddad2855",
   "metadata": {},
   "outputs": [
    {
     "name": "stdout",
     "output_type": "stream",
     "text": [
      "showing info https://raw.githubusercontent.com/nltk/nltk_data/gh-pages/index.xml\n"
     ]
    }
   ],
   "source": [
    "import nltk\n",
    "nltk.download()"
   ]
  },
  {
   "cell_type": "code",
   "execution_count": 7,
   "id": "fcbb606f-7f1f-4dd6-b7d0-24af6634dd39",
   "metadata": {},
   "outputs": [
    {
     "data": {
      "text/plain": [
       "['Dr.',\n",
       " 'Strange loves Ana.',\n",
       " 'Hulk loves Cookies etc., and he also smashes all things.']"
      ]
     },
     "execution_count": 7,
     "metadata": {},
     "output_type": "execute_result"
    }
   ],
   "source": [
    "from nltk.tokenize import sent_tokenize\n",
    "sent_tokenize(\"Dr. Strange loves Ana. Hulk loves Cookies etc., and he also smashes all things.\")"
   ]
  },
  {
   "cell_type": "code",
   "execution_count": null,
   "id": "69d24b38-61d4-439b-aacc-11ec37b1c53b",
   "metadata": {},
   "outputs": [],
   "source": [
    "from nltk.tokenize import word_tokenize\n",
    "word_tokenize(\"Dr. Strange loves Ana. Hulk loves Cookies etc., and he also smashes all things.\")# no oop"
   ]
  },
  {
   "cell_type": "code",
   "execution_count": null,
   "id": "6ad311ba-03c2-4b13-b4e2-453a5a860399",
   "metadata": {},
   "outputs": [],
   "source": []
  }
 ],
 "metadata": {
  "kernelspec": {
   "display_name": "Python 3 (ipykernel)",
   "language": "python",
   "name": "python3"
  },
  "language_info": {
   "codemirror_mode": {
    "name": "ipython",
    "version": 3
   },
   "file_extension": ".py",
   "mimetype": "text/x-python",
   "name": "python",
   "nbconvert_exporter": "python",
   "pygments_lexer": "ipython3",
   "version": "3.12.7"
  }
 },
 "nbformat": 4,
 "nbformat_minor": 5
}
