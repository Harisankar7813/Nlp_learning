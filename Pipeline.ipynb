{
 "cells": [
  {
   "cell_type": "code",
   "execution_count": 3,
   "id": "5a08c037-0d39-4210-b469-fdbcb45f93c4",
   "metadata": {},
   "outputs": [],
   "source": [
    "import spacy"
   ]
  },
  {
   "cell_type": "code",
   "execution_count": 9,
   "id": "71ee6c94-204a-4cbc-80da-7da0b16cdf2f",
   "metadata": {},
   "outputs": [],
   "source": []
  },
  {
   "cell_type": "code",
   "execution_count": 11,
   "id": "c656b363-a279-43a3-ad8e-fb8b56433840",
   "metadata": {},
   "outputs": [
    {
     "data": {
      "text/plain": [
       "[]"
      ]
     },
     "execution_count": 11,
     "metadata": {},
     "output_type": "execute_result"
    }
   ],
   "source": [
    "nlp.pipe_names"
   ]
  },
  {
   "cell_type": "code",
   "execution_count": 18,
   "id": "5b90c18c-96a8-4ccb-8573-6ed65ac5b7af",
   "metadata": {},
   "outputs": [],
   "source": [
    "nlp = spacy.load(\"en_core_web_sm\")  # gives the pipeline components"
   ]
  },
  {
   "cell_type": "code",
   "execution_count": 19,
   "id": "94550070-0d4d-4069-87c5-5b387638aabe",
   "metadata": {},
   "outputs": [
    {
     "data": {
      "text/plain": [
       "['tok2vec', 'tagger', 'parser', 'attribute_ruler', 'lemmatizer', 'ner']"
      ]
     },
     "execution_count": 19,
     "metadata": {},
     "output_type": "execute_result"
    }
   ],
   "source": [
    "nlp.pipe_names"
   ]
  },
  {
   "cell_type": "code",
   "execution_count": 20,
   "id": "bb091fe5-d4cd-45f3-895d-4edb1777b5df",
   "metadata": {},
   "outputs": [
    {
     "data": {
      "text/plain": [
       "[('tok2vec', <spacy.pipeline.tok2vec.Tok2Vec at 0x188d86b8d70>),\n",
       " ('tagger', <spacy.pipeline.tagger.Tagger at 0x188d854ba10>),\n",
       " ('parser', <spacy.pipeline.dep_parser.DependencyParser at 0x188d853e110>),\n",
       " ('attribute_ruler',\n",
       "  <spacy.pipeline.attributeruler.AttributeRuler at 0x188d89b4890>),\n",
       " ('lemmatizer', <spacy.lang.en.lemmatizer.EnglishLemmatizer at 0x188dba29850>),\n",
       " ('ner', <spacy.pipeline.ner.EntityRecognizer at 0x188dcd2c9e0>)]"
      ]
     },
     "execution_count": 20,
     "metadata": {},
     "output_type": "execute_result"
    }
   ],
   "source": [
    "nlp.pipeline"
   ]
  },
  {
   "cell_type": "code",
   "execution_count": 21,
   "id": "ab155947-d10c-4dd0-b5d5-f577237d237d",
   "metadata": {},
   "outputs": [
    {
     "name": "stdout",
     "output_type": "stream",
     "text": [
      "Text | NOUN | text\n",
      "present | ADJ | present\n",
      "in | ADP | in\n",
      "document | NOUN | document\n",
      "to | PART | to\n",
      "tokenize | VERB | tokenize\n",
      ". | PUNCT | .\n",
      "And | CCONJ | and\n",
      "this | PRON | this\n",
      "does | AUX | do\n",
      "n't | PART | not\n",
      "contain | VERB | contain\n",
      "pipeline | NOUN | pipeline\n",
      ". | PUNCT | .\n",
      "They | PRON | they\n",
      "has | VERB | have\n",
      "tokenizer | NOUN | tokenizer\n",
      "component | NOUN | component\n",
      "by | ADP | by\n",
      "default | NOUN | default\n"
     ]
    }
   ],
   "source": [
    "doc = nlp(\"Text present in document to tokenize. And this doesn't contain pipeline. They has tokenizer component by default\")\n",
    "for text in doc:\n",
    "    print (text ,\"|\",text.pos_,\"|\",text.lemma_)  #pos - Part of speech # if we use blank pipe line this pos doesn't exist because of nlp = spacy.load(\"en_core_web_sm\") this pipeline we get."
   ]
  },
  {
   "cell_type": "code",
   "execution_count": 23,
   "id": "30918b5d-6a44-4b49-b1bb-fa4171391953",
   "metadata": {},
   "outputs": [
    {
     "data": {
      "text/plain": [
       "<spacy.pipeline.sentencizer.Sentencizer at 0x188dbb40350>"
      ]
     },
     "execution_count": 23,
     "metadata": {},
     "output_type": "execute_result"
    }
   ],
   "source": [
    "nlp.add_pipe('sentencizer')"
   ]
  },
  {
   "cell_type": "code",
   "execution_count": 26,
   "id": "133355e1-d4ec-4b17-846c-8f115971fa88",
   "metadata": {},
   "outputs": [],
   "source": [
    "nlp = spacy.blank(\"en\")\n",
    "doc = nlp(\"Tesla Inc is going to acquire twitter for 45$ billion\")\n",
    "for ent in doc.ents:\n",
    "    print(ent.text, \"|\",ent.label_,\"|\",spacy.explain(ent.label_))#here it will execute tesla inc is a company 45$ is money like that because of pipeline"
   ]
  },
  {
   "cell_type": "code",
   "execution_count": 27,
   "id": "082d6e4e-5aaf-4c0e-9049-e514dab89c29",
   "metadata": {},
   "outputs": [
    {
     "name": "stderr",
     "output_type": "stream",
     "text": [
      "C:\\Users\\HARI SANKAR\\AppData\\Roaming\\Python\\Python312\\site-packages\\spacy\\displacy\\__init__.py:213: UserWarning: [W006] No entities to visualize found in Doc object. If this is surprising to you, make sure the Doc was processed using a model that supports named entity recognition, and check the `doc.ents` property manually if necessary.\n",
      "  warnings.warn(Warnings.W006)\n"
     ]
    },
    {
     "data": {
      "text/html": [
       "<span class=\"tex2jax_ignore\"><div class=\"entities\" style=\"line-height: 2.5; direction: ltr\">Tesla Inc is going to acquire twitter for 45$ billion</div></span>"
      ],
      "text/plain": [
       "<IPython.core.display.HTML object>"
      ]
     },
     "metadata": {},
     "output_type": "display_data"
    }
   ],
   "source": [
    "from spacy import displacy\n",
    "displacy.render(doc,style=\"ent\")"
   ]
  },
  {
   "cell_type": "code",
   "execution_count": null,
   "id": "1502c663-d559-4ac0-be1c-e80abfaa3691",
   "metadata": {},
   "outputs": [],
   "source": []
  }
 ],
 "metadata": {
  "kernelspec": {
   "display_name": "Python 3 (ipykernel)",
   "language": "python",
   "name": "python3"
  },
  "language_info": {
   "codemirror_mode": {
    "name": "ipython",
    "version": 3
   },
   "file_extension": ".py",
   "mimetype": "text/x-python",
   "name": "python",
   "nbconvert_exporter": "python",
   "pygments_lexer": "ipython3",
   "version": "3.12.7"
  }
 },
 "nbformat": 4,
 "nbformat_minor": 5
}
